{
 "cells": [
  {
   "cell_type": "code",
   "execution_count": 47,
   "id": "a72bf917",
   "metadata": {},
   "outputs": [],
   "source": [
    "from scipy.integrate import odeint\n",
    "import numpy as np\n",
    "from scipy.integrate import solve_ivp\n",
    "import matplotlib.pyplot as plt\n",
    "import scipy as sc"
   ]
  },
  {
   "cell_type": "code",
   "execution_count": 48,
   "id": "6c45b2bc",
   "metadata": {},
   "outputs": [],
   "source": [
    "# Parameters\n",
    "\n",
    "An = 155.32\n",
    "A = 3.5/1000\n",
    "f = 2.6\n",
    "w = 2*np.pi*f\n",
    "B = 36332.07\n",
    "gama = 36332.07\n",
    "n = 2\n",
    "tf = 60\n",
    "alpha_a = 1921.141\n",
    "alpha_b = 5882.51\n",
    "k0 = 1940.405\n",
    "c1a = 2089.263\n",
    "c1b = 14384.918\n",
    "V = 5\n",
    "f0 = 0\n",
    "x0 = 0\n",
    "k1 = 1.751268\n",
    "c0a = 651.4718\n",
    "c0b = 1043.7559\n",
    "fac = 1\n",
    "\n",
    "def x(t):\n",
    "    x = A*np.sin(w*t)\n",
    "    return x\n",
    "def dx(t):\n",
    "    dx = A*w*np.cos(w*t)\n",
    "    return(dx)"
   ]
  },
  {
   "cell_type": "code",
   "execution_count": 49,
   "id": "4cb5707e",
   "metadata": {},
   "outputs": [
    {
     "data": {
      "text/plain": [
       "array([0.        , 0.29117735, 0.56539783, ..., 5.        , 5.        ,\n",
       "       5.        ])"
      ]
     },
     "execution_count": 49,
     "metadata": {},
     "output_type": "execute_result"
    }
   ],
   "source": [
    "t = np.linspace(0, 1, 1001)\n",
    "def vvolt(t, VV):\n",
    "    return -tf*(VV-V)\n",
    "\n",
    "VV0 = 0\n",
    "\n",
    "sol_VV = odeint(vvolt, y0=VV0, t=t, tfirst=True)\n",
    "\n",
    "V_dot = sol_VV.T[0]\n",
    "V_dot"
   ]
  },
  {
   "cell_type": "code",
   "execution_count": 50,
   "id": "9d283e13",
   "metadata": {},
   "outputs": [
    {
     "data": {
      "text/plain": [
       "array([ 2089.263     ,  6277.82525069, 10222.4644119 , ...,\n",
       "       74013.85300056, 74013.85300056, 74013.85300055])"
      ]
     },
     "execution_count": 50,
     "metadata": {},
     "output_type": "execute_result"
    }
   ],
   "source": [
    "def c1f(VV):\n",
    "    return c1a+c1b*VV\n",
    "\n",
    "def c0f(VV):\n",
    "    return c0a+c0b*VV\n",
    "\n",
    "def alpf(VV):\n",
    "    return alpha_a + alpha_b*VV\n",
    "\n",
    "c1 = c1f(V_dot)\n",
    "c0 = c0f(V_dot)\n",
    "alpha = alpf(V_dot)\n",
    "c1"
   ]
  },
  {
   "cell_type": "code",
   "execution_count": 51,
   "id": "f509129d",
   "metadata": {},
   "outputs": [],
   "source": [
    "resp = []\n",
    "for i in range(len(t)):\n",
    "    c1n = c1[i]\n",
    "    c0n = c0[i]\n",
    "    alphan = alpha[i]\n",
    "    \n",
    "    \n",
    "    def dSdt(S, t):\n",
    "\n",
    "        y, z = S\n",
    "\n",
    "        dy = (1/(c1n+c0n))*((alphan*z)+(c0n*dx(t))+(k0*(x(t)-(y))))\n",
    "        dz = (-gama*np.abs(dx(t)-dy)*z*((np.abs(z)**np.array([n-1])))) - (B*(dx(t)-dy)*((np.abs(z)**np.array([n])))) + (An*(dx(t)-dy))\n",
    "        var_s = [dy,dz]\n",
    "        \n",
    "        return var_s\n",
    "    \n",
    "    y0 = 0\n",
    "    z0 = 0\n",
    "    S_0 = ([y0, z0])\n",
    "    \n",
    "    sol = odeint(dSdt, y0=S_0, t=t)\n",
    "    \n",
    "    resp.append(sol.T)"
   ]
  },
  {
   "cell_type": "code",
   "execution_count": 52,
   "id": "93170ac9",
   "metadata": {},
   "outputs": [
    {
     "data": {
      "text/plain": [
       "1001"
      ]
     },
     "execution_count": 52,
     "metadata": {},
     "output_type": "execute_result"
    }
   ],
   "source": [
    "len(c1)"
   ]
  },
  {
   "cell_type": "code",
   "execution_count": 53,
   "id": "c7782e14",
   "metadata": {},
   "outputs": [],
   "source": [
    "yl = []\n",
    "zl = []\n",
    "for i in range(len(t)):\n",
    "    yl.append(resp[i][0][i])\n",
    "    zl.append(resp[i][1][i])"
   ]
  },
  {
   "cell_type": "code",
   "execution_count": 54,
   "id": "d43854c7",
   "metadata": {},
   "outputs": [
    {
     "data": {
      "text/plain": [
       "array([ 0.01359095,  0.01125746,  0.012747  , ..., -0.0216518 ,\n",
       "       -0.02161345, -0.02157416])"
      ]
     },
     "execution_count": 54,
     "metadata": {},
     "output_type": "execute_result"
    }
   ],
   "source": [
    "dy = (np.ones_like(c1)/(c1+c0))*((alpha*zl)+(c0*dx(t))+(k0*(x(t)-(yl))))\n",
    "dy"
   ]
  },
  {
   "cell_type": "code",
   "execution_count": 55,
   "id": "b721234b",
   "metadata": {},
   "outputs": [
    {
     "data": {
      "text/plain": [
       "1653.3571643008884"
      ]
     },
     "execution_count": 55,
     "metadata": {},
     "output_type": "execute_result"
    }
   ],
   "source": [
    "Fd = c1*(dy) + k1*(x(t)-x0) - f0\n",
    "max(Fd)"
   ]
  },
  {
   "cell_type": "code",
   "execution_count": 56,
   "id": "2839b0c3",
   "metadata": {},
   "outputs": [
    {
     "data": {
      "text/plain": [
       "[<matplotlib.lines.Line2D at 0x21a34111340>]"
      ]
     },
     "execution_count": 56,
     "metadata": {},
     "output_type": "execute_result"
    },
    {
     "data": {
      "image/png": "[encoded data removed]",
      "text/plain": [
       "<Figure size 640x480 with 1 Axes>"
      ]
     },
     "metadata": {},
     "output_type": "display_data"
    }
   ],
   "source": [
    "plt.plot(np.insert(dx(t),0,0), np.insert(Fd*fac,0,0))"
   ]
  },
  {
   "cell_type": "code",
   "execution_count": 57,
   "id": "8c744c13",
   "metadata": {},
   "outputs": [
    {
     "data": {
      "text/plain": [
       "array([   28.39507244,    28.39507244,    70.67248268, ...,\n",
       "       -1602.53658511, -1599.69794025, -1596.79049567])"
      ]
     },
     "execution_count": 57,
     "metadata": {},
     "output_type": "execute_result"
    }
   ],
   "source": [
    "np.insert(Fd*fac,0,Fd[0])"
   ]
  },
  {
   "cell_type": "code",
   "execution_count": 58,
   "id": "f1888ce4",
   "metadata": {},
   "outputs": [],
   "source": [
    "def c1f2(t):\n",
    "    return c1f(t)\n",
    "\n",
    "def c0f2(t):\n",
    "    return c0f(t)\n",
    "\n",
    "def aplf2(t):\n",
    "    return alpf(t)\n",
    "\n",
    "\n",
    "\n",
    "rest = []\n",
    "\n",
    "for i in range(len(t)):\n",
    "    def dSdt(S, t, VV2):\n",
    "\n",
    "        y, z = S\n",
    "\n",
    "        dy = (1/(c1f2(VV2)+c0f2(VV2)))*((aplf2(VV2)*z)+(c0f2(VV2)*dx(t))+(k0*(x(t)-(y))))\n",
    "        dz = (-gama*np.abs(dx(t)-dy)*z*((np.abs(z)**np.array([n-1])))) - (B*(dx(t)-dy)*((np.abs(z)**np.array([n])))) + (An*(dx(t)-dy))\n",
    "        var_s = [dy,dz]\n",
    "        \n",
    "        return var_s\n",
    "\n",
    "    y0 = 0\n",
    "    z0 = 0\n",
    "    S_0 = ([y0, z0])\n",
    "\n",
    "    param_V = (V_dot[i])\n",
    "\n",
    "    sol = odeint(dSdt, y0=S_0, t=t, args=(param_V,))\n",
    "\n",
    "    rest.append(sol.T)\n"
   ]
  },
  {
   "cell_type": "code",
   "execution_count": 59,
   "id": "a5ddc35d",
   "metadata": {},
   "outputs": [],
   "source": [
    "yl = []\n",
    "zl = []\n",
    "for i in range(len(t)):\n",
    "    yl.append(rest[i][0][i])\n",
    "    zl.append(rest[i][1][i])"
   ]
  },
  {
   "cell_type": "code",
   "execution_count": 60,
   "id": "865d4e6a",
   "metadata": {},
   "outputs": [
    {
     "data": {
      "text/plain": [
       "array([ 0.01359095,  0.01125746,  0.012747  , ..., -0.0216518 ,\n",
       "       -0.02161345, -0.02157416])"
      ]
     },
     "execution_count": 60,
     "metadata": {},
     "output_type": "execute_result"
    }
   ],
   "source": [
    "dy = (np.ones_like(c1)/(c1+c0))*((alpha*zl)+(c0*dx(t))+(k0*(x(t)-(yl))))\n",
    "dy"
   ]
  },
  {
   "cell_type": "code",
   "execution_count": 61,
   "id": "fb76a81f",
   "metadata": {},
   "outputs": [
    {
     "data": {
      "text/plain": [
       "1653.3571643008884"
      ]
     },
     "execution_count": 61,
     "metadata": {},
     "output_type": "execute_result"
    }
   ],
   "source": [
    "Fd = c1*(dy) + k1*(x(t)-x0) - f0\n",
    "max(Fd)"
   ]
  },
  {
   "cell_type": "code",
   "execution_count": 62,
   "id": "8c4ccdf6",
   "metadata": {},
   "outputs": [
    {
     "data": {
      "text/plain": [
       "[<matplotlib.lines.Line2D at 0x21a341d23a0>]"
      ]
     },
     "execution_count": 62,
     "metadata": {},
     "output_type": "execute_result"
    },
    {
     "data": {
      "image/png": "[encoded data removed]",
      "text/plain": [
       "<Figure size 640x480 with 1 Axes>"
      ]
     },
     "metadata": {},
     "output_type": "display_data"
    }
   ],
   "source": [
    "plt.plot(np.insert(dx(t),0,0), np.insert(Fd*fac,0,0))"
   ]
  },
  {
   "cell_type": "code",
   "execution_count": 63,
   "id": "16cf1965",
   "metadata": {},
   "outputs": [
    {
     "data": {
      "text/plain": [
       "1"
      ]
     },
     "execution_count": 63,
     "metadata": {},
     "output_type": "execute_result"
    }
   ],
   "source": [
    "pa = (V_dot,)\n",
    "type(pa)\n",
    "len(pa)"
   ]
  },
  {
   "cell_type": "code",
   "execution_count": null,
   "id": "f5ed18c3",
   "metadata": {},
   "outputs": [],
   "source": []
  }
 ],
 "metadata": {
  "kernelspec": {
   "display_name": "Python 3 (ipykernel)",
   "language": "python",
   "name": "python3"
  },
  "language_info": {
   "codemirror_mode": {
    "name": "ipython",
    "version": 3
   },
   "file_extension": ".py",
   "mimetype": "text/x-python",
   "name": "python",
   "nbconvert_exporter": "python",
   "pygments_lexer": "ipython3",
   "version": "3.8.17"
  }
 },
 "nbformat": 4,
 "nbformat_minor": 5
}
