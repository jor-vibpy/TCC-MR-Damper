{
 "cells": [
  {
   "cell_type": "code",
   "execution_count": 2,
   "id": "43e00f94",
   "metadata": {},
   "outputs": [],
   "source": [
    "import numpy as np\n",
    "from scipy.integrate import solve_ivp\n",
    "import matplotlib.pyplot as plt\n",
    "from scipy.integrate import odeint"
   ]
  },
  {
   "cell_type": "code",
   "execution_count": 9,
   "id": "4922ffef",
   "metadata": {},
   "outputs": [],
   "source": [
    "# Parameters\n",
    "\n",
    "An = 155.32\n",
    "A = 3.5/1000\n",
    "f = 2.6\n",
    "w = 2*np.pi*f\n",
    "B = 36332.07\n",
    "gama = 36332.07\n",
    "n = 2\n",
    "tf = 60\n",
    "alpha_a = 1921.141\n",
    "alpha_b = 5882.51\n",
    "k0 = 1940.405\n",
    "c1a = 2089.263\n",
    "c1b = 14384.918\n",
    "V = 5\n",
    "f0 = 0\n",
    "x0 = 0\n",
    "k1 = 1.751268\n",
    "c0a = 651.4718\n",
    "c0b = 1043.7559\n",
    "fac = 1\n",
    "\n",
    "def x(t):\n",
    "    x = A*np.sin(w*t)\n",
    "    return x\n",
    "def dx(t):\n",
    "    dx = A*w*np.cos(w*t)\n",
    "    return dx"
   ]
  },
  {
   "cell_type": "code",
   "execution_count": 10,
   "id": "cef981fd",
   "metadata": {},
   "outputs": [
    {
     "data": {
      "text/plain": [
       "array([ 0.        ,  0.00877271,  0.01692516, ..., -0.04622573,\n",
       "       -0.04622774, -0.04622919])"
      ]
     },
     "execution_count": 10,
     "metadata": {},
     "output_type": "execute_result"
    }
   ],
   "source": [
    "def dzdt(t, z):\n",
    "    dzdt = (-gama*np.abs(dx(t))*z*((np.abs(z))**(n-1))) - (B*dx(t)*((np.abs(z))**n)) + (An*dx(t))\n",
    "    return dzdt\n",
    "\n",
    "z0 = np.array([0])\n",
    "t = np.linspace(0, 1, 1001)\n",
    "\n",
    "sol = solve_ivp(dzdt, t_span= (0,max(t)), y0 = z0, t_eval=t)\n",
    "\n",
    "z = sol.y[0]\n",
    "z"
   ]
  },
  {
   "cell_type": "code",
   "execution_count": 11,
   "id": "e9c28421",
   "metadata": {},
   "outputs": [
    {
     "data": {
      "text/plain": [
       "array([0.        , 0.29117733, 0.56541837, ..., 4.99898434, 4.99904247,\n",
       "       4.99909785])"
      ]
     },
     "execution_count": 11,
     "metadata": {},
     "output_type": "execute_result"
    }
   ],
   "source": [
    "def vvolt(t, VV):\n",
    "    return -tf*(VV-V)\n",
    "\n",
    "VV0 = np.array([0])\n",
    "\n",
    "sol_VV = solve_ivp(vvolt, t_span=(0,max(t)), y0=VV0, t_eval=t)\n",
    "V_dot = sol_VV.y[0]\n",
    "V_dot"
   ]
  },
  {
   "cell_type": "code",
   "execution_count": 12,
   "id": "ed35885a",
   "metadata": {},
   "outputs": [],
   "source": [
    "def c1f(VV):\n",
    "    return c1a+(c1b*VV)\n",
    "\n",
    "def c0f(VV):\n",
    "    return c0a+(c0b*VV)\n",
    "\n",
    "def alpf(VV):\n",
    "    return alpha_a + (alpha_b*VV)\n",
    "\n",
    "c1 = c1f(V_dot)\n",
    "c0 = c0f(V_dot)\n",
    "alpha = alpf(V_dot)"
   ]
  },
  {
   "cell_type": "code",
   "execution_count": 13,
   "id": "89680d17",
   "metadata": {},
   "outputs": [
    {
     "data": {
      "text/plain": [
       "1785.1853295261726"
      ]
     },
     "execution_count": 13,
     "metadata": {},
     "output_type": "execute_result"
    }
   ],
   "source": [
    "Fd = c0*dx(t) + k0*(x(t)-x0) + alpha*z\n",
    "max(Fd)"
   ]
  },
  {
   "cell_type": "code",
   "execution_count": 16,
   "id": "9050f5e6",
   "metadata": {},
   "outputs": [
    {
     "data": {
      "text/plain": [
       "[<matplotlib.lines.Line2D at 0x23aab631ba0>]"
      ]
     },
     "execution_count": 16,
     "metadata": {},
     "output_type": "execute_result"
    },
    {
     "data": {
      "image/png": "[encoded data removed]",
      "text/plain": [
       "<Figure size 432x288 with 1 Axes>"
      ]
     },
     "metadata": {
      "needs_background": "light"
     },
     "output_type": "display_data"
    }
   ],
   "source": [
    "plt.plot(np.insert(dx(t),0,0), np.insert(Fd,0,0))"
   ]
  },
  {
   "cell_type": "code",
   "execution_count": null,
   "id": "978807c9",
   "metadata": {},
   "outputs": [],
   "source": []
  },
  {
   "cell_type": "code",
   "execution_count": null,
   "id": "2a939ff6",
   "metadata": {},
   "outputs": [],
   "source": []
  }
 ],
 "metadata": {
  "kernelspec": {
   "display_name": "Python 3 (ipykernel)",
   "language": "python",
   "name": "python3"
  },
  "language_info": {
   "codemirror_mode": {
    "name": "ipython",
    "version": 3
   },
   "file_extension": ".py",
   "mimetype": "text/x-python",
   "name": "python",
   "nbconvert_exporter": "python",
   "pygments_lexer": "ipython3",
   "version": "3.10.4"
  }
 },
 "nbformat": 4,
 "nbformat_minor": 5
}
